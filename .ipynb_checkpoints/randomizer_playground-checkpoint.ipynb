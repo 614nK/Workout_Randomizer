{
 "cells": [
  {
   "cell_type": "markdown",
   "id": "arbitrary-softball",
   "metadata": {},
   "source": [
    "# Ideas\n",
    "- Dictionaries for each wrokout groups\n",
    "    - Body groups:\n",
    "        - Chest Arms\n",
    "        - Back and Shoulders\n",
    "        - Core\n",
    "        - Lower body\n",
    "    - Later narrow down into different smaller areas of the body (muscle groups)\n",
    "- Dictionaries based on location\n",
    "- Dictionaries based on equipment\n",
    "- Checkboxes?\n",
    "- Yes/no questions\n",
    "- Detailed lists of what are available commands\n",
    "- Move away from card, and do picture of exercise + # of reps\n",
    "- Add in multipliers\n",
    "        \n"
   ]
  },
  {
   "cell_type": "code",
   "execution_count": null,
   "id": "apart-criminal",
   "metadata": {},
   "outputs": [],
   "source": []
  }
 ],
 "metadata": {
  "kernelspec": {
   "display_name": "Python 3",
   "language": "python",
   "name": "python3"
  },
  "language_info": {
   "codemirror_mode": {
    "name": "ipython",
    "version": 3
   },
   "file_extension": ".py",
   "mimetype": "text/x-python",
   "name": "python",
   "nbconvert_exporter": "python",
   "pygments_lexer": "ipython3",
   "version": "3.7.9"
  }
 },
 "nbformat": 4,
 "nbformat_minor": 5
}
